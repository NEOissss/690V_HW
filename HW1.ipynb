{
 "cells": [
  {
   "cell_type": "code",
   "execution_count": null,
   "metadata": {},
   "outputs": [],
   "source": [
    "from numpy import zeros\n",
    "from bokeh.plotting import figure, output_notebook, show\n",
    "from bokeh.layouts import widgetbox, column\n",
    "from bokeh.models import Select, CustomJS, ColumnDataSource, Circle, Line, HoverTool\n",
    "from openpyxl import load_workbook"
   ]
  },
  {
   "cell_type": "code",
   "execution_count": null,
   "metadata": {},
   "outputs": [],
   "source": [
    "output_notebook()"
   ]
  },
  {
   "cell_type": "code",
   "execution_count": null,
   "metadata": {},
   "outputs": [],
   "source": [
    "# read data from xslx\n",
    "wb = load_workbook('indicator hiv estimated prevalence% 15-49.xlsx')\n",
    "sheets = wb.get_sheet_names()\n",
    "ws = wb.get_sheet_by_name(sheets[0])"
   ]
  },
  {
   "cell_type": "code",
   "execution_count": null,
   "metadata": {},
   "outputs": [],
   "source": [
    "# prepare the data set\n",
    "years = range(1979, 2012)\n",
    "total_data = {'x': years, 'y': zeros(33)}\n",
    "for i in range(2,277):\n",
    "    hiv_data = []\n",
    "    for cell in ws[str(i)]:\n",
    "        hiv_data.append(cell.value)\n",
    "    country = hiv_data[0]\n",
    "    hiv_data = hiv_data[1:len(hiv_data)]\n",
    "    total_data[country] = hiv_data\n",
    "source = ColumnDataSource(data=total_data)\n",
    "\n",
    "# initial country list\n",
    "countries = []\n",
    "for cell in ws['A']:\n",
    "    countries.append(cell.value)\n",
    "countries = countries[1:len(countries)]"
   ]
  },
  {
   "cell_type": "code",
   "execution_count": null,
   "metadata": {},
   "outputs": [],
   "source": [
    "# add hover tool\n",
    "hover = HoverTool(\n",
    "    tooltips=[('Year', '@x'), ('Percent', '@y{%0.2f}%')],\n",
    "    formatters={'x': 'datetime','y': 'printf'},\n",
    "    mode='vline'\n",
    ")"
   ]
  },
  {
   "cell_type": "code",
   "execution_count": null,
   "metadata": {},
   "outputs": [],
   "source": [
    "plot = figure(title = \"Adults with HIV (%, age 15-49)\",\n",
    "              plot_width = 800,\n",
    "              plot_height = 400,\n",
    "              x_axis_label = 'Year',\n",
    "              y_axis_label = 'Estimated HIV Prevalence %',\n",
    "              y_range = [0, 28],\n",
    "              tools = [hover])\n",
    "\n",
    "plot.circle('x', 'y', source = source)\n",
    "plot.line('x', 'y', source = source)"
   ]
  },
  {
   "cell_type": "code",
   "execution_count": null,
   "metadata": {},
   "outputs": [],
   "source": [
    "# Interaction using javascript callback\n",
    "callback = CustomJS(args=dict(source=source), code=\"\"\"\n",
    "    var country = cb_obj.value;\n",
    "    var data = source.data;\n",
    "    x = data['x'];\n",
    "    y = data['y'];\n",
    "    for (i = 0; i < x.length; i++) {\n",
    "        y[i] = data[country][i]\n",
    "    }\n",
    "    source.change.emit();\n",
    "\"\"\")\n",
    "\n",
    "select = Select(title=\"Country:\", value=\"Abkhazia\", options=countries)\n",
    "select.js_on_change('value', callback)"
   ]
  },
  {
   "cell_type": "code",
   "execution_count": null,
   "metadata": {},
   "outputs": [],
   "source": [
    "layout = column(select, plot)\n",
    "show(layout)"
   ]
  }
 ],
 "metadata": {
  "kernelspec": {
   "display_name": "Python 2",
   "language": "python",
   "name": "python2"
  },
  "language_info": {
   "codemirror_mode": {
    "name": "ipython",
    "version": 2
   },
   "file_extension": ".py",
   "mimetype": "text/x-python",
   "name": "python",
   "nbconvert_exporter": "python",
   "pygments_lexer": "ipython2",
   "version": "2.7.10"
  }
 },
 "nbformat": 4,
 "nbformat_minor": 2
}
